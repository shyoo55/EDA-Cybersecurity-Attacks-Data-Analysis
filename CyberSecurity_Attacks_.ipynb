{
  "nbformat": 4,
  "nbformat_minor": 0,
  "metadata": {
    "colab": {
      "name": "CyberSecurity Attacks .ipynb",
      "provenance": [],
      "collapsed_sections": []
    },
    "kernelspec": {
      "display_name": "Python 3",
      "language": "python",
      "name": "python3"
    },
    "language_info": {
      "codemirror_mode": {
        "name": "ipython",
        "version": 3
      },
      "file_extension": ".py",
      "mimetype": "text/x-python",
      "name": "python",
      "nbconvert_exporter": "python",
      "pygments_lexer": "ipython3",
      "version": "3.7.4"
    }
  },
  "cells": [
    {
      "cell_type": "markdown",
      "metadata": {
        "id": "Mv4n2h7JIGZj"
      },
      "source": [
        "# **Cybersecurity Attacks Exploratory Data Analysis (EDA)**\n",
        "# By(Shaikha Bin Ateeq )"
      ]
    },
    {
      "cell_type": "markdown",
      "metadata": {
        "id": "uuqQ2kn4Gyu-"
      },
      "source": [
        "# **Introduction** :\n",
        "\n",
        "Organizations are becoming more vulnerable to cyber threats because of the growing global reliance on computers, networks, programs, social media, and data Data breaches, a typical cyber attack, have a huge negative impact on businesses and are frequently caused by inadequately safeguarded data.For information security, it's no longer enough to rely on traditional IT personnel and security protocols. Threat intelligence tools and security programs are clearly needed to lower your organization's cyber risk and identify potential attack surfaces. I intend to work with data on cybersecurity attacks that I obtained from Kaggle, which recorded the events of various cybersecurity attacks of varying durations and patterns.[ In this project, I will be using Exploratory Data Analysis approach as known as EDA, which aims to analyze and investigate data sets and summarize their main characteristics mostly by employing data visualization methods. However I am planning to understand the the patterns of Cybersecurity attacks and the Most Logical Ports attacked and the common type of attacks in additions the Different time of the day , (hours,night,morning ) and so on The goal of these analyzes is to know the origin and type of attacks and to try to raise the level of protection in those vulnerabilities\n",
        "\n"
      ]
    },
    {
      "cell_type": "markdown",
      "metadata": {
        "id": "wJkyP9GjNwg3"
      },
      "source": [
        "# **Data Overview :**\n",
        "\n",
        "The data will help us understand the nature of Cybersecurity attacks and raising the level of protection in the port where cyber-attacks often occur The features provided in the dataset are:\n",
        "\n",
        "Attack category : Type of registered cybersecurity attack\n",
        "\n",
        "* Attack category : Type of registered cybersecurity attack\n",
        "\n",
        "*  Attack subcategory: A subcategory of the type of cybersecurity attack registered\n",
        "\n",
        "* Attack Name: The technical name for the cybersecurity attack\n",
        "\n",
        "* Time: Start and end date of the attack in timestamp format\n",
        "\n",
        "* Protocol: The protocol used for the attack.\n",
        "\n",
        "* Source IP: IPv4 address where the attack came from.\n",
        "\n",
        "* Source Port: The logical port where the attack came from.\n",
        "\n",
        "* Destination IP: Destination IPv4 address.\n",
        "\n",
        "* Destination Port: Logical destination port\n"
      ]
    },
    {
      "cell_type": "markdown",
      "metadata": {
        "id": "yOUGeyffNxJ1"
      },
      "source": [
        "**Import Library:**"
      ]
    },
    {
      "cell_type": "code",
      "metadata": {
        "id": "Ha8ZWuvRGyvA"
      },
      "source": [
        "import pandas as pd\n",
        "import seaborn as sns\n",
        "import matplotlib.pyplot as plt\n",
        "from sqlalchemy import create_engine\n",
        "import numpy as np\n",
        "import math\n",
        "import copy \n",
        "from datetime import datetime, timedelta\n",
        "import calendar\n",
        "from datetime import date\n",
        "plt.style.use('seaborn-white')\n",
        "from scipy import stats\n",
        "\n",
        "\n",
        "import ipaddress\n",
        "from scipy.stats import chi2_contingency\n",
        "import missingno as msno\n",
        "import warnings\n",
        "warnings.filterwarnings('ignore') "
      ],
      "execution_count": 1,
      "outputs": []
    },
    {
      "cell_type": "markdown",
      "metadata": {
        "id": "81R8i-dNONx-"
      },
      "source": [
        "**Import Database :**"
      ]
    },
    {
      "cell_type": "code",
      "metadata": {
        "id": "4PcHdDWiPNeC"
      },
      "source": [
        "engine = create_engine(\"sqlite:///CyberAttacks.db\") "
      ],
      "execution_count": 2,
      "outputs": []
    },
    {
      "cell_type": "code",
      "metadata": {
        "colab": {
          "base_uri": "https://localhost:8080/"
        },
        "id": "g2-ucPbSPULP",
        "outputId": "f1bf63cf-3799-4855-cfcf-327f22ccc5b9"
      },
      "source": [
        "all_tables = engine.table_names()\n",
        "all_tables"
      ],
      "execution_count": 3,
      "outputs": [
        {
          "output_type": "execute_result",
          "data": {
            "text/plain": [
              "['Cybersecurity_attacks', 'TCP-ports']"
            ]
          },
          "metadata": {},
          "execution_count": 3
        }
      ]
    },
    {
      "cell_type": "markdown",
      "metadata": {
        "id": "BnHH4yQSRHCw"
      },
      "source": [
        "**Explore the Database:**"
      ]
    },
    {
      "cell_type": "code",
      "metadata": {
        "id": "RgniS65oPtw8"
      },
      "source": [
        "df=pd.read_sql('select * FROM Cybersecurity_attacks;', engine)\n"
      ],
      "execution_count": 4,
      "outputs": []
    },
    {
      "cell_type": "code",
      "metadata": {
        "colab": {
          "base_uri": "https://localhost:8080/",
          "height": 338
        },
        "id": "icGlO1oeGyvE",
        "outputId": "de129b3c-81db-454f-b9ea-1683266a1a20"
      },
      "source": [
        "df.head(4)"
      ],
      "execution_count": 5,
      "outputs": [
        {
          "output_type": "execute_result",
          "data": {
            "text/html": [
              "<div>\n",
              "<style scoped>\n",
              "    .dataframe tbody tr th:only-of-type {\n",
              "        vertical-align: middle;\n",
              "    }\n",
              "\n",
              "    .dataframe tbody tr th {\n",
              "        vertical-align: top;\n",
              "    }\n",
              "\n",
              "    .dataframe thead th {\n",
              "        text-align: right;\n",
              "    }\n",
              "</style>\n",
              "<table border=\"1\" class=\"dataframe\">\n",
              "  <thead>\n",
              "    <tr style=\"text-align: right;\">\n",
              "      <th></th>\n",
              "      <th>Attackcategory</th>\n",
              "      <th>Attacksubcategory</th>\n",
              "      <th>Protocol</th>\n",
              "      <th>SourceIP</th>\n",
              "      <th>SourcePort</th>\n",
              "      <th>DestinationIP</th>\n",
              "      <th>DestinationPort</th>\n",
              "      <th>AttackName</th>\n",
              "      <th>AttackReference</th>\n",
              "      <th>.</th>\n",
              "      <th>Time</th>\n",
              "    </tr>\n",
              "  </thead>\n",
              "  <tbody>\n",
              "    <tr>\n",
              "      <th>0</th>\n",
              "      <td>Reconnaissance</td>\n",
              "      <td>HTTP</td>\n",
              "      <td>tcp</td>\n",
              "      <td>175.45.176.0</td>\n",
              "      <td>13284</td>\n",
              "      <td>149.171.126.16</td>\n",
              "      <td>80</td>\n",
              "      <td>Domino Web Server Database Access: /doladmin.n...</td>\n",
              "      <td>-</td>\n",
              "      <td>.</td>\n",
              "      <td>1421927414-1421927416</td>\n",
              "    </tr>\n",
              "    <tr>\n",
              "      <th>1</th>\n",
              "      <td>Exploits</td>\n",
              "      <td>Unix 'r' Service</td>\n",
              "      <td>udp</td>\n",
              "      <td>175.45.176.3</td>\n",
              "      <td>21223</td>\n",
              "      <td>149.171.126.18</td>\n",
              "      <td>32780</td>\n",
              "      <td>Solaris rwalld Format String Vulnerability (ht...</td>\n",
              "      <td>CVE 2002-0573 (http://cve.mitre.org/cgi-bin/cv...</td>\n",
              "      <td>.</td>\n",
              "      <td>1421927415-1421927415</td>\n",
              "    </tr>\n",
              "    <tr>\n",
              "      <th>2</th>\n",
              "      <td>Exploits</td>\n",
              "      <td>Browser</td>\n",
              "      <td>tcp</td>\n",
              "      <td>175.45.176.2</td>\n",
              "      <td>23357</td>\n",
              "      <td>149.171.126.16</td>\n",
              "      <td>80</td>\n",
              "      <td>Windows Metafile (WMF) SetAbortProc() Code Exe...</td>\n",
              "      <td>CVE 2005-4560 (http://cve.mitre.org/cgi-bin/cv...</td>\n",
              "      <td>.</td>\n",
              "      <td>1421927416-1421927416</td>\n",
              "    </tr>\n",
              "    <tr>\n",
              "      <th>3</th>\n",
              "      <td>Exploits</td>\n",
              "      <td>Miscellaneous Batch</td>\n",
              "      <td>tcp</td>\n",
              "      <td>175.45.176.2</td>\n",
              "      <td>13792</td>\n",
              "      <td>149.171.126.16</td>\n",
              "      <td>5555</td>\n",
              "      <td>HP Data Protector Backup (https://strikecenter...</td>\n",
              "      <td>CVE 2011-1729 (http://cve.mitre.org/cgi-bin/cv...</td>\n",
              "      <td>.</td>\n",
              "      <td>1421927417-1421927417</td>\n",
              "    </tr>\n",
              "  </tbody>\n",
              "</table>\n",
              "</div>"
            ],
            "text/plain": [
              "   Attackcategory    Attacksubcategory  ...  .                   Time\n",
              "0  Reconnaissance                 HTTP  ...  .  1421927414-1421927416\n",
              "1        Exploits     Unix 'r' Service  ...  .  1421927415-1421927415\n",
              "2        Exploits              Browser  ...  .  1421927416-1421927416\n",
              "3        Exploits  Miscellaneous Batch  ...  .  1421927417-1421927417\n",
              "\n",
              "[4 rows x 11 columns]"
            ]
          },
          "metadata": {},
          "execution_count": 5
        }
      ]
    },
    {
      "cell_type": "markdown",
      "metadata": {
        "id": "2xqgTkb9mK_6"
      },
      "source": [
        "# **Cleanning Part :**"
      ]
    },
    {
      "cell_type": "code",
      "metadata": {
        "id": "Up6IkiO9lrEN"
      },
      "source": [
        "df_before_cleeaning=df.copy() # copy the datafream before cleanning "
      ],
      "execution_count": 6,
      "outputs": []
    },
    {
      "cell_type": "code",
      "metadata": {
        "colab": {
          "base_uri": "https://localhost:8080/"
        },
        "id": "CqGAE8aznaqw",
        "outputId": "773bb4cc-16fb-4076-9b94-bcdd60b87e49"
      },
      "source": [
        "df.shape "
      ],
      "execution_count": 7,
      "outputs": [
        {
          "output_type": "execute_result",
          "data": {
            "text/plain": [
              "(178031, 11)"
            ]
          },
          "metadata": {},
          "execution_count": 7
        }
      ]
    },
    {
      "cell_type": "code",
      "metadata": {
        "colab": {
          "base_uri": "https://localhost:8080/",
          "height": 418
        },
        "id": "bHKtkTm9ThdV",
        "outputId": "dd23691e-4c6b-40e1-a63d-8eca4c5d4a05"
      },
      "source": [
        "df[['Start time','End time']] = df['Time'].str.split('-',expand=True) #split the time into start and end time\n",
        "df.head()"
      ],
      "execution_count": 8,
      "outputs": [
        {
          "output_type": "execute_result",
          "data": {
            "text/html": [
              "<div>\n",
              "<style scoped>\n",
              "    .dataframe tbody tr th:only-of-type {\n",
              "        vertical-align: middle;\n",
              "    }\n",
              "\n",
              "    .dataframe tbody tr th {\n",
              "        vertical-align: top;\n",
              "    }\n",
              "\n",
              "    .dataframe thead th {\n",
              "        text-align: right;\n",
              "    }\n",
              "</style>\n",
              "<table border=\"1\" class=\"dataframe\">\n",
              "  <thead>\n",
              "    <tr style=\"text-align: right;\">\n",
              "      <th></th>\n",
              "      <th>Attackcategory</th>\n",
              "      <th>Attacksubcategory</th>\n",
              "      <th>Protocol</th>\n",
              "      <th>SourceIP</th>\n",
              "      <th>SourcePort</th>\n",
              "      <th>DestinationIP</th>\n",
              "      <th>DestinationPort</th>\n",
              "      <th>AttackName</th>\n",
              "      <th>AttackReference</th>\n",
              "      <th>.</th>\n",
              "      <th>Time</th>\n",
              "      <th>Start time</th>\n",
              "      <th>End time</th>\n",
              "    </tr>\n",
              "  </thead>\n",
              "  <tbody>\n",
              "    <tr>\n",
              "      <th>0</th>\n",
              "      <td>Reconnaissance</td>\n",
              "      <td>HTTP</td>\n",
              "      <td>tcp</td>\n",
              "      <td>175.45.176.0</td>\n",
              "      <td>13284</td>\n",
              "      <td>149.171.126.16</td>\n",
              "      <td>80</td>\n",
              "      <td>Domino Web Server Database Access: /doladmin.n...</td>\n",
              "      <td>-</td>\n",
              "      <td>.</td>\n",
              "      <td>1421927414-1421927416</td>\n",
              "      <td>1421927414</td>\n",
              "      <td>1421927416</td>\n",
              "    </tr>\n",
              "    <tr>\n",
              "      <th>1</th>\n",
              "      <td>Exploits</td>\n",
              "      <td>Unix 'r' Service</td>\n",
              "      <td>udp</td>\n",
              "      <td>175.45.176.3</td>\n",
              "      <td>21223</td>\n",
              "      <td>149.171.126.18</td>\n",
              "      <td>32780</td>\n",
              "      <td>Solaris rwalld Format String Vulnerability (ht...</td>\n",
              "      <td>CVE 2002-0573 (http://cve.mitre.org/cgi-bin/cv...</td>\n",
              "      <td>.</td>\n",
              "      <td>1421927415-1421927415</td>\n",
              "      <td>1421927415</td>\n",
              "      <td>1421927415</td>\n",
              "    </tr>\n",
              "    <tr>\n",
              "      <th>2</th>\n",
              "      <td>Exploits</td>\n",
              "      <td>Browser</td>\n",
              "      <td>tcp</td>\n",
              "      <td>175.45.176.2</td>\n",
              "      <td>23357</td>\n",
              "      <td>149.171.126.16</td>\n",
              "      <td>80</td>\n",
              "      <td>Windows Metafile (WMF) SetAbortProc() Code Exe...</td>\n",
              "      <td>CVE 2005-4560 (http://cve.mitre.org/cgi-bin/cv...</td>\n",
              "      <td>.</td>\n",
              "      <td>1421927416-1421927416</td>\n",
              "      <td>1421927416</td>\n",
              "      <td>1421927416</td>\n",
              "    </tr>\n",
              "    <tr>\n",
              "      <th>3</th>\n",
              "      <td>Exploits</td>\n",
              "      <td>Miscellaneous Batch</td>\n",
              "      <td>tcp</td>\n",
              "      <td>175.45.176.2</td>\n",
              "      <td>13792</td>\n",
              "      <td>149.171.126.16</td>\n",
              "      <td>5555</td>\n",
              "      <td>HP Data Protector Backup (https://strikecenter...</td>\n",
              "      <td>CVE 2011-1729 (http://cve.mitre.org/cgi-bin/cv...</td>\n",
              "      <td>.</td>\n",
              "      <td>1421927417-1421927417</td>\n",
              "      <td>1421927417</td>\n",
              "      <td>1421927417</td>\n",
              "    </tr>\n",
              "    <tr>\n",
              "      <th>4</th>\n",
              "      <td>Exploits</td>\n",
              "      <td>Cisco IOS</td>\n",
              "      <td>tcp</td>\n",
              "      <td>175.45.176.2</td>\n",
              "      <td>26939</td>\n",
              "      <td>149.171.126.10</td>\n",
              "      <td>80</td>\n",
              "      <td>Cisco IOS HTTP Authentication Bypass Level 64 ...</td>\n",
              "      <td>CVE 2001-0537 (http://cve.mitre.org/cgi-bin/cv...</td>\n",
              "      <td>.</td>\n",
              "      <td>1421927418-1421927418</td>\n",
              "      <td>1421927418</td>\n",
              "      <td>1421927418</td>\n",
              "    </tr>\n",
              "  </tbody>\n",
              "</table>\n",
              "</div>"
            ],
            "text/plain": [
              "   Attackcategory    Attacksubcategory  ...  Start time    End time\n",
              "0  Reconnaissance                 HTTP  ...  1421927414  1421927416\n",
              "1        Exploits     Unix 'r' Service  ...  1421927415  1421927415\n",
              "2        Exploits              Browser  ...  1421927416  1421927416\n",
              "3        Exploits  Miscellaneous Batch  ...  1421927417  1421927417\n",
              "4        Exploits            Cisco IOS  ...  1421927418  1421927418\n",
              "\n",
              "[5 rows x 13 columns]"
            ]
          },
          "metadata": {},
          "execution_count": 8
        }
      ]
    },
    {
      "cell_type": "code",
      "metadata": {
        "colab": {
          "base_uri": "https://localhost:8080/"
        },
        "id": "OlDZtBEqR0qx",
        "outputId": "2cd3ad88-7dec-4ec5-af04-bf337b858aee"
      },
      "source": [
        "df['.'].unique()# there is no benfit for this columns "
      ],
      "execution_count": 9,
      "outputs": [
        {
          "output_type": "execute_result",
          "data": {
            "text/plain": [
              "array(['.'], dtype=object)"
            ]
          },
          "metadata": {},
          "execution_count": 9
        }
      ]
    },
    {
      "cell_type": "code",
      "metadata": {
        "colab": {
          "base_uri": "https://localhost:8080/",
          "height": 418
        },
        "id": "HEnCz5EyqlYI",
        "outputId": "ea502e98-4eb3-44b7-e000-7f12350172bc"
      },
      "source": [
        "df = df.drop(['.', 'Time'],axis=1)# Drop the two \".\" and 'time' \n",
        "df.head()"
      ],
      "execution_count": 10,
      "outputs": [
        {
          "output_type": "execute_result",
          "data": {
            "text/html": [
              "<div>\n",
              "<style scoped>\n",
              "    .dataframe tbody tr th:only-of-type {\n",
              "        vertical-align: middle;\n",
              "    }\n",
              "\n",
              "    .dataframe tbody tr th {\n",
              "        vertical-align: top;\n",
              "    }\n",
              "\n",
              "    .dataframe thead th {\n",
              "        text-align: right;\n",
              "    }\n",
              "</style>\n",
              "<table border=\"1\" class=\"dataframe\">\n",
              "  <thead>\n",
              "    <tr style=\"text-align: right;\">\n",
              "      <th></th>\n",
              "      <th>Attackcategory</th>\n",
              "      <th>Attacksubcategory</th>\n",
              "      <th>Protocol</th>\n",
              "      <th>SourceIP</th>\n",
              "      <th>SourcePort</th>\n",
              "      <th>DestinationIP</th>\n",
              "      <th>DestinationPort</th>\n",
              "      <th>AttackName</th>\n",
              "      <th>AttackReference</th>\n",
              "      <th>Start time</th>\n",
              "      <th>End time</th>\n",
              "    </tr>\n",
              "  </thead>\n",
              "  <tbody>\n",
              "    <tr>\n",
              "      <th>0</th>\n",
              "      <td>Reconnaissance</td>\n",
              "      <td>HTTP</td>\n",
              "      <td>tcp</td>\n",
              "      <td>175.45.176.0</td>\n",
              "      <td>13284</td>\n",
              "      <td>149.171.126.16</td>\n",
              "      <td>80</td>\n",
              "      <td>Domino Web Server Database Access: /doladmin.n...</td>\n",
              "      <td>-</td>\n",
              "      <td>1421927414</td>\n",
              "      <td>1421927416</td>\n",
              "    </tr>\n",
              "    <tr>\n",
              "      <th>1</th>\n",
              "      <td>Exploits</td>\n",
              "      <td>Unix 'r' Service</td>\n",
              "      <td>udp</td>\n",
              "      <td>175.45.176.3</td>\n",
              "      <td>21223</td>\n",
              "      <td>149.171.126.18</td>\n",
              "      <td>32780</td>\n",
              "      <td>Solaris rwalld Format String Vulnerability (ht...</td>\n",
              "      <td>CVE 2002-0573 (http://cve.mitre.org/cgi-bin/cv...</td>\n",
              "      <td>1421927415</td>\n",
              "      <td>1421927415</td>\n",
              "    </tr>\n",
              "    <tr>\n",
              "      <th>2</th>\n",
              "      <td>Exploits</td>\n",
              "      <td>Browser</td>\n",
              "      <td>tcp</td>\n",
              "      <td>175.45.176.2</td>\n",
              "      <td>23357</td>\n",
              "      <td>149.171.126.16</td>\n",
              "      <td>80</td>\n",
              "      <td>Windows Metafile (WMF) SetAbortProc() Code Exe...</td>\n",
              "      <td>CVE 2005-4560 (http://cve.mitre.org/cgi-bin/cv...</td>\n",
              "      <td>1421927416</td>\n",
              "      <td>1421927416</td>\n",
              "    </tr>\n",
              "    <tr>\n",
              "      <th>3</th>\n",
              "      <td>Exploits</td>\n",
              "      <td>Miscellaneous Batch</td>\n",
              "      <td>tcp</td>\n",
              "      <td>175.45.176.2</td>\n",
              "      <td>13792</td>\n",
              "      <td>149.171.126.16</td>\n",
              "      <td>5555</td>\n",
              "      <td>HP Data Protector Backup (https://strikecenter...</td>\n",
              "      <td>CVE 2011-1729 (http://cve.mitre.org/cgi-bin/cv...</td>\n",
              "      <td>1421927417</td>\n",
              "      <td>1421927417</td>\n",
              "    </tr>\n",
              "    <tr>\n",
              "      <th>4</th>\n",
              "      <td>Exploits</td>\n",
              "      <td>Cisco IOS</td>\n",
              "      <td>tcp</td>\n",
              "      <td>175.45.176.2</td>\n",
              "      <td>26939</td>\n",
              "      <td>149.171.126.10</td>\n",
              "      <td>80</td>\n",
              "      <td>Cisco IOS HTTP Authentication Bypass Level 64 ...</td>\n",
              "      <td>CVE 2001-0537 (http://cve.mitre.org/cgi-bin/cv...</td>\n",
              "      <td>1421927418</td>\n",
              "      <td>1421927418</td>\n",
              "    </tr>\n",
              "  </tbody>\n",
              "</table>\n",
              "</div>"
            ],
            "text/plain": [
              "   Attackcategory    Attacksubcategory  ...  Start time    End time\n",
              "0  Reconnaissance                 HTTP  ...  1421927414  1421927416\n",
              "1        Exploits     Unix 'r' Service  ...  1421927415  1421927415\n",
              "2        Exploits              Browser  ...  1421927416  1421927416\n",
              "3        Exploits  Miscellaneous Batch  ...  1421927417  1421927417\n",
              "4        Exploits            Cisco IOS  ...  1421927418  1421927418\n",
              "\n",
              "[5 rows x 11 columns]"
            ]
          },
          "metadata": {},
          "execution_count": 10
        }
      ]
    },
    {
      "cell_type": "code",
      "metadata": {
        "colab": {
          "base_uri": "https://localhost:8080/"
        },
        "id": "YKP28A8XrSeA",
        "outputId": "29cabee8-496b-49cb-b634-040a42564d9c"
      },
      "source": [
        "df.isnull().sum() # check from null value"
      ],
      "execution_count": 11,
      "outputs": [
        {
          "output_type": "execute_result",
          "data": {
            "text/plain": [
              "Attackcategory           0\n",
              "Attacksubcategory     4476\n",
              "Protocol                 0\n",
              "SourceIP                 0\n",
              "SourcePort               0\n",
              "DestinationIP            0\n",
              "DestinationPort          0\n",
              "AttackName               0\n",
              "AttackReference      51745\n",
              "Start time               0\n",
              "End time                 0\n",
              "dtype: int64"
            ]
          },
          "metadata": {},
          "execution_count": 11
        }
      ]
    },
    {
      "cell_type": "code",
      "metadata": {
        "id": "SaU5GgSxr0RU"
      },
      "source": [
        "df[\"Attacksubcategory\"] = df[\"Attacksubcategory\"].fillna(\"Not Registered\") # since the subcategory not definde let it as Not Registered"
      ],
      "execution_count": 12,
      "outputs": []
    },
    {
      "cell_type": "code",
      "metadata": {
        "colab": {
          "base_uri": "https://localhost:8080/"
        },
        "id": "bVEOt282sJJL",
        "outputId": "d4c6220b-6715-4e3d-e11d-fb128b27625d"
      },
      "source": [
        "df.isnull().sum()"
      ],
      "execution_count": 13,
      "outputs": [
        {
          "output_type": "execute_result",
          "data": {
            "text/plain": [
              "Attackcategory           0\n",
              "Attacksubcategory        0\n",
              "Protocol                 0\n",
              "SourceIP                 0\n",
              "SourcePort               0\n",
              "DestinationIP            0\n",
              "DestinationPort          0\n",
              "AttackName               0\n",
              "AttackReference      51745\n",
              "Start time               0\n",
              "End time                 0\n",
              "dtype: int64"
            ]
          },
          "metadata": {},
          "execution_count": 13
        }
      ]
    },
    {
      "cell_type": "code",
      "metadata": {
        "colab": {
          "base_uri": "https://localhost:8080/"
        },
        "id": "3h7TiaTupohp",
        "outputId": "79707ad6-5794-46eb-ef94-843805c53511"
      },
      "source": [
        "print(df[pd.isnull(df['AttackReference'])]['Attackcategory'].value_counts()) #to know which attack category have the most null in attacks refreance"
      ],
      "execution_count": 14,
      "outputs": [
        {
          "output_type": "stream",
          "name": "stdout",
          "text": [
            "Fuzzers           30297\n",
            "Reconnaissance    18538\n",
            "Analysis           1657\n",
            "Shellcode           761\n",
            "Generic             351\n",
            "Backdoor             68\n",
            "DoS                  56\n",
            "Worms                12\n",
            "Exploits              5\n",
            "Name: Attackcategory, dtype: int64\n"
          ]
        }
      ]
    },
    {
      "cell_type": "code",
      "metadata": {
        "colab": {
          "base_uri": "https://localhost:8080/"
        },
        "id": "xki520BApom1",
        "outputId": "b0ca80fc-2414-4275-8e5b-e129ee17730e"
      },
      "source": [
        "# Percentage of missing values in 'Attack Reference' per Attack Category\n",
        "((df[pd.isnull(df['AttackReference'])]['Attackcategory'].value_counts()/df['Attackcategory'].value_counts())*100).dropna().sort_values(ascending=False)"
      ],
      "execution_count": 15,
      "outputs": [
        {
          "output_type": "execute_result",
          "data": {
            "text/plain": [
              "Reconnaissance    90.117155\n",
              "Fuzzers           88.172638\n",
              "Analysis          85.721676\n",
              "Shellcode         49.383517\n",
              "Worms              6.936416\n",
              "Generic            1.729405\n",
              "Backdoor           1.622137\n",
              "DoS                0.222957\n",
              "Exploits           0.007185\n",
              "Name: Attackcategory, dtype: float64"
            ]
          },
          "metadata": {},
          "execution_count": 15
        }
      ]
    },
    {
      "cell_type": "code",
      "metadata": {
        "colab": {
          "base_uri": "https://localhost:8080/",
          "height": 418
        },
        "id": "zxQAnJQ8URHi",
        "outputId": "d941388a-0cf0-47e5-d615-29603ab7c720"
      },
      "source": [
        "df.head()"
      ],
      "execution_count": 16,
      "outputs": [
        {
          "output_type": "execute_result",
          "data": {
            "text/html": [
              "<div>\n",
              "<style scoped>\n",
              "    .dataframe tbody tr th:only-of-type {\n",
              "        vertical-align: middle;\n",
              "    }\n",
              "\n",
              "    .dataframe tbody tr th {\n",
              "        vertical-align: top;\n",
              "    }\n",
              "\n",
              "    .dataframe thead th {\n",
              "        text-align: right;\n",
              "    }\n",
              "</style>\n",
              "<table border=\"1\" class=\"dataframe\">\n",
              "  <thead>\n",
              "    <tr style=\"text-align: right;\">\n",
              "      <th></th>\n",
              "      <th>Attackcategory</th>\n",
              "      <th>Attacksubcategory</th>\n",
              "      <th>Protocol</th>\n",
              "      <th>SourceIP</th>\n",
              "      <th>SourcePort</th>\n",
              "      <th>DestinationIP</th>\n",
              "      <th>DestinationPort</th>\n",
              "      <th>AttackName</th>\n",
              "      <th>AttackReference</th>\n",
              "      <th>Start time</th>\n",
              "      <th>End time</th>\n",
              "    </tr>\n",
              "  </thead>\n",
              "  <tbody>\n",
              "    <tr>\n",
              "      <th>0</th>\n",
              "      <td>Reconnaissance</td>\n",
              "      <td>HTTP</td>\n",
              "      <td>tcp</td>\n",
              "      <td>175.45.176.0</td>\n",
              "      <td>13284</td>\n",
              "      <td>149.171.126.16</td>\n",
              "      <td>80</td>\n",
              "      <td>Domino Web Server Database Access: /doladmin.n...</td>\n",
              "      <td>-</td>\n",
              "      <td>1421927414</td>\n",
              "      <td>1421927416</td>\n",
              "    </tr>\n",
              "    <tr>\n",
              "      <th>1</th>\n",
              "      <td>Exploits</td>\n",
              "      <td>Unix 'r' Service</td>\n",
              "      <td>udp</td>\n",
              "      <td>175.45.176.3</td>\n",
              "      <td>21223</td>\n",
              "      <td>149.171.126.18</td>\n",
              "      <td>32780</td>\n",
              "      <td>Solaris rwalld Format String Vulnerability (ht...</td>\n",
              "      <td>CVE 2002-0573 (http://cve.mitre.org/cgi-bin/cv...</td>\n",
              "      <td>1421927415</td>\n",
              "      <td>1421927415</td>\n",
              "    </tr>\n",
              "    <tr>\n",
              "      <th>2</th>\n",
              "      <td>Exploits</td>\n",
              "      <td>Browser</td>\n",
              "      <td>tcp</td>\n",
              "      <td>175.45.176.2</td>\n",
              "      <td>23357</td>\n",
              "      <td>149.171.126.16</td>\n",
              "      <td>80</td>\n",
              "      <td>Windows Metafile (WMF) SetAbortProc() Code Exe...</td>\n",
              "      <td>CVE 2005-4560 (http://cve.mitre.org/cgi-bin/cv...</td>\n",
              "      <td>1421927416</td>\n",
              "      <td>1421927416</td>\n",
              "    </tr>\n",
              "    <tr>\n",
              "      <th>3</th>\n",
              "      <td>Exploits</td>\n",
              "      <td>Miscellaneous Batch</td>\n",
              "      <td>tcp</td>\n",
              "      <td>175.45.176.2</td>\n",
              "      <td>13792</td>\n",
              "      <td>149.171.126.16</td>\n",
              "      <td>5555</td>\n",
              "      <td>HP Data Protector Backup (https://strikecenter...</td>\n",
              "      <td>CVE 2011-1729 (http://cve.mitre.org/cgi-bin/cv...</td>\n",
              "      <td>1421927417</td>\n",
              "      <td>1421927417</td>\n",
              "    </tr>\n",
              "    <tr>\n",
              "      <th>4</th>\n",
              "      <td>Exploits</td>\n",
              "      <td>Cisco IOS</td>\n",
              "      <td>tcp</td>\n",
              "      <td>175.45.176.2</td>\n",
              "      <td>26939</td>\n",
              "      <td>149.171.126.10</td>\n",
              "      <td>80</td>\n",
              "      <td>Cisco IOS HTTP Authentication Bypass Level 64 ...</td>\n",
              "      <td>CVE 2001-0537 (http://cve.mitre.org/cgi-bin/cv...</td>\n",
              "      <td>1421927418</td>\n",
              "      <td>1421927418</td>\n",
              "    </tr>\n",
              "  </tbody>\n",
              "</table>\n",
              "</div>"
            ],
            "text/plain": [
              "   Attackcategory    Attacksubcategory  ...  Start time    End time\n",
              "0  Reconnaissance                 HTTP  ...  1421927414  1421927416\n",
              "1        Exploits     Unix 'r' Service  ...  1421927415  1421927415\n",
              "2        Exploits              Browser  ...  1421927416  1421927416\n",
              "3        Exploits  Miscellaneous Batch  ...  1421927417  1421927417\n",
              "4        Exploits            Cisco IOS  ...  1421927418  1421927418\n",
              "\n",
              "[5 rows x 11 columns]"
            ]
          },
          "metadata": {},
          "execution_count": 16
        }
      ]
    },
    {
      "cell_type": "code",
      "metadata": {
        "colab": {
          "base_uri": "https://localhost:8080/"
        },
        "id": "zSR5f8uHsLjl",
        "outputId": "190a3a03-d9ff-4c9a-ceb4-cde2e1f0200d"
      },
      "source": [
        "df[df.duplicated()].shape  # check from duplicated"
      ],
      "execution_count": 17,
      "outputs": [
        {
          "output_type": "execute_result",
          "data": {
            "text/plain": [
              "(6, 11)"
            ]
          },
          "metadata": {},
          "execution_count": 17
        }
      ]
    },
    {
      "cell_type": "code",
      "metadata": {
        "colab": {
          "base_uri": "https://localhost:8080/"
        },
        "id": "yPDe0AhYsRcZ",
        "outputId": "595b3b1a-cb85-490d-f58d-1f8cd0233d4a"
      },
      "source": [
        "print('The Dimensions before dropping duplicated rows: ' + str(df.shape))\n",
        "df = df.drop(df[df.duplicated()].index)\n",
        "print('The Dimensions after dropping duplicated rows: ' + str(df.shape))"
      ],
      "execution_count": 18,
      "outputs": [
        {
          "output_type": "stream",
          "name": "stdout",
          "text": [
            "The Dimensions before dropping duplicated rows: (178031, 11)\n",
            "The Dimensions after dropping duplicated rows: (178025, 11)\n"
          ]
        }
      ]
    },
    {
      "cell_type": "markdown",
      "metadata": {
        "id": "0TcKYhNYuB_n"
      },
      "source": [
        "Well-Known Ports Port numbers can run from 0 to 65353 since.The highest TCP port number is 65,535. The TCP protocol provides 16 bits for the port number, and this is interpreted as an unsigned integer; all values are valid, apart from 0, and so the largest port number is (2^16 - 1) or 65,535 [1] "
      ]
    },
    {
      "cell_type": "code",
      "metadata": {
        "colab": {
          "base_uri": "https://localhost:8080/",
          "height": 287
        },
        "id": "051ZfMhB0TrX",
        "outputId": "f39af621-a9b7-4f72-d19c-fe3755ac8b34"
      },
      "source": [
        "invalid_SourcePort = (df['SourcePort'] < 0) | (df['SourcePort'] > 65535)\n",
        "invalid_DestinationPort = (df['DestinationPort'] < 0) | (df['DestinationPort'] > 65535)\n",
        "df[invalid_SourcePort | invalid_DestinationPort].head()"
      ],
      "execution_count": 19,
      "outputs": [
        {
          "output_type": "execute_result",
          "data": {
            "text/html": [
              "<div>\n",
              "<style scoped>\n",
              "    .dataframe tbody tr th:only-of-type {\n",
              "        vertical-align: middle;\n",
              "    }\n",
              "\n",
              "    .dataframe tbody tr th {\n",
              "        vertical-align: top;\n",
              "    }\n",
              "\n",
              "    .dataframe thead th {\n",
              "        text-align: right;\n",
              "    }\n",
              "</style>\n",
              "<table border=\"1\" class=\"dataframe\">\n",
              "  <thead>\n",
              "    <tr style=\"text-align: right;\">\n",
              "      <th></th>\n",
              "      <th>Attackcategory</th>\n",
              "      <th>Attacksubcategory</th>\n",
              "      <th>Protocol</th>\n",
              "      <th>SourceIP</th>\n",
              "      <th>SourcePort</th>\n",
              "      <th>DestinationIP</th>\n",
              "      <th>DestinationPort</th>\n",
              "      <th>AttackName</th>\n",
              "      <th>AttackReference</th>\n",
              "      <th>Start time</th>\n",
              "      <th>End time</th>\n",
              "    </tr>\n",
              "  </thead>\n",
              "  <tbody>\n",
              "    <tr>\n",
              "      <th>174347</th>\n",
              "      <td>Generic</td>\n",
              "      <td>IXIA</td>\n",
              "      <td>udp</td>\n",
              "      <td>175.45.176.1</td>\n",
              "      <td>67520</td>\n",
              "      <td>149.171.126.18</td>\n",
              "      <td>53</td>\n",
              "      <td>Microsoft_DNS_Server_ANY_Query_Cache_Weakness_...</td>\n",
              "      <td>CVE 2005-4092 (http://cve.mitre.org/cgi-bin/cv...</td>\n",
              "      <td>1421933561</td>\n",
              "      <td>1421933561</td>\n",
              "    </tr>\n",
              "    <tr>\n",
              "      <th>174348</th>\n",
              "      <td>Exploits</td>\n",
              "      <td>Browser</td>\n",
              "      <td>tcp</td>\n",
              "      <td>175.45.176.3</td>\n",
              "      <td>78573</td>\n",
              "      <td>149.171.126.18</td>\n",
              "      <td>110</td>\n",
              "      <td>Microsoft Internet Explorer 6.0 Png pngfilt.dl...</td>\n",
              "      <td>BPS 2010-0002 (https://strikecenter.bpointsys....</td>\n",
              "      <td>1421932490</td>\n",
              "      <td>1421932491</td>\n",
              "    </tr>\n",
              "    <tr>\n",
              "      <th>174349</th>\n",
              "      <td>Reconnaissance</td>\n",
              "      <td>HTTP</td>\n",
              "      <td>tcp</td>\n",
              "      <td>175.45.176.1</td>\n",
              "      <td>71804</td>\n",
              "      <td>149.171.126.10</td>\n",
              "      <td>80</td>\n",
              "      <td>Domino Web Server Database Access: /internet.n...</td>\n",
              "      <td>None</td>\n",
              "      <td>1424236143</td>\n",
              "      <td>1424236143</td>\n",
              "    </tr>\n",
              "    <tr>\n",
              "      <th>174350</th>\n",
              "      <td>DoS</td>\n",
              "      <td>Ethernet</td>\n",
              "      <td>pnni</td>\n",
              "      <td>175.45.176.3</td>\n",
              "      <td>0</td>\n",
              "      <td>149.171.126.19</td>\n",
              "      <td>-753</td>\n",
              "      <td>Cisco IPS Jumbo Frame System Crash (https://st...</td>\n",
              "      <td>CVE 2008-2060 (http://cve.mitre.org/cgi-bin/cv...</td>\n",
              "      <td>1424230284</td>\n",
              "      <td>1424230284</td>\n",
              "    </tr>\n",
              "    <tr>\n",
              "      <th>174351</th>\n",
              "      <td>Fuzzers</td>\n",
              "      <td>OSPF</td>\n",
              "      <td>trunk-1</td>\n",
              "      <td>175.45.176.0</td>\n",
              "      <td>73338</td>\n",
              "      <td>149.171.126.13</td>\n",
              "      <td>0</td>\n",
              "      <td>Fuzzer: OSPF Hello Packet: Long Neighbor Lists...</td>\n",
              "      <td>None</td>\n",
              "      <td>1424223172</td>\n",
              "      <td>1424223172</td>\n",
              "    </tr>\n",
              "  </tbody>\n",
              "</table>\n",
              "</div>"
            ],
            "text/plain": [
              "        Attackcategory Attacksubcategory  ...  Start time    End time\n",
              "174347         Generic              IXIA  ...  1421933561  1421933561\n",
              "174348        Exploits           Browser  ...  1421932490  1421932491\n",
              "174349  Reconnaissance              HTTP  ...  1424236143  1424236143\n",
              "174350             DoS          Ethernet  ...  1424230284  1424230284\n",
              "174351         Fuzzers              OSPF  ...  1424223172  1424223172\n",
              "\n",
              "[5 rows x 11 columns]"
            ]
          },
          "metadata": {},
          "execution_count": 19
        }
      ]
    },
    {
      "cell_type": "code",
      "metadata": {
        "id": "5z3dFVD90c1a"
      },
      "source": [
        "df = df[~(invalid_SourcePort | invalid_DestinationPort)].reset_index(drop=True) \n"
      ],
      "execution_count": 20,
      "outputs": []
    },
    {
      "cell_type": "code",
      "metadata": {
        "colab": {
          "base_uri": "https://localhost:8080/"
        },
        "id": "vcVCPL34ouFT",
        "outputId": "c4644c37-72e8-48a1-b30f-f7e5c91042fd"
      },
      "source": [
        "df.shape"
      ],
      "execution_count": 21,
      "outputs": [
        {
          "output_type": "execute_result",
          "data": {
            "text/plain": [
              "(174341, 11)"
            ]
          },
          "metadata": {},
          "execution_count": 21
        }
      ]
    },
    {
      "cell_type": "code",
      "metadata": {
        "colab": {
          "base_uri": "https://localhost:8080/"
        },
        "id": "VjYrilws0z1D",
        "outputId": "68a92a74-05bb-4cef-b2c7-fa64681fe40c"
      },
      "source": [
        "print(\"Attack category:\",df['Attackcategory'].unique()) # there is duplicated such as tcp and TCP\n",
        "print('Protocol:',df['Protocol'].unique()[:15]) # Backdoor vs Backdoors "
      ],
      "execution_count": 22,
      "outputs": [
        {
          "output_type": "stream",
          "name": "stdout",
          "text": [
            "Attack category: ['Reconnaissance' 'Exploits' 'DoS' 'Generic' 'Shellcode' 'Fuzzers' 'Worms'\n",
            " 'Backdoors' 'Analysis' 'Backdoor']\n",
            "Protocol: ['tcp' 'udp' 'Tcp' 'UDP' 'ospf' 'sctp' 'sep' 'mobile' 'sun-nd' 'swipe'\n",
            " 'pim' 'ggp' 'ip' 'ipnip' 'st2']\n"
          ]
        }
      ]
    },
    {
      "cell_type": "code",
      "metadata": {
        "colab": {
          "base_uri": "https://localhost:8080/",
          "height": 418
        },
        "id": "sNgnnDwtGyvO",
        "outputId": "626d7739-cc0e-4479-c23e-6650b337be5b"
      },
      "source": [
        "df['Protocol'] = df['Protocol'].str.upper().str.strip()\n",
        "df['Attackcategory'] = df['Attackcategory'].str.upper().str.strip()\n",
        "df['Attackcategory'] = df['Attackcategory'].str.strip().replace('BACKDOORS','BACKDOOR')\n",
        "\n",
        "df.head()"
      ],
      "execution_count": 23,
      "outputs": [
        {
          "output_type": "execute_result",
          "data": {
            "text/html": [
              "<div>\n",
              "<style scoped>\n",
              "    .dataframe tbody tr th:only-of-type {\n",
              "        vertical-align: middle;\n",
              "    }\n",
              "\n",
              "    .dataframe tbody tr th {\n",
              "        vertical-align: top;\n",
              "    }\n",
              "\n",
              "    .dataframe thead th {\n",
              "        text-align: right;\n",
              "    }\n",
              "</style>\n",
              "<table border=\"1\" class=\"dataframe\">\n",
              "  <thead>\n",
              "    <tr style=\"text-align: right;\">\n",
              "      <th></th>\n",
              "      <th>Attackcategory</th>\n",
              "      <th>Attacksubcategory</th>\n",
              "      <th>Protocol</th>\n",
              "      <th>SourceIP</th>\n",
              "      <th>SourcePort</th>\n",
              "      <th>DestinationIP</th>\n",
              "      <th>DestinationPort</th>\n",
              "      <th>AttackName</th>\n",
              "      <th>AttackReference</th>\n",
              "      <th>Start time</th>\n",
              "      <th>End time</th>\n",
              "    </tr>\n",
              "  </thead>\n",
              "  <tbody>\n",
              "    <tr>\n",
              "      <th>0</th>\n",
              "      <td>RECONNAISSANCE</td>\n",
              "      <td>HTTP</td>\n",
              "      <td>TCP</td>\n",
              "      <td>175.45.176.0</td>\n",
              "      <td>13284</td>\n",
              "      <td>149.171.126.16</td>\n",
              "      <td>80</td>\n",
              "      <td>Domino Web Server Database Access: /doladmin.n...</td>\n",
              "      <td>-</td>\n",
              "      <td>1421927414</td>\n",
              "      <td>1421927416</td>\n",
              "    </tr>\n",
              "    <tr>\n",
              "      <th>1</th>\n",
              "      <td>EXPLOITS</td>\n",
              "      <td>Unix 'r' Service</td>\n",
              "      <td>UDP</td>\n",
              "      <td>175.45.176.3</td>\n",
              "      <td>21223</td>\n",
              "      <td>149.171.126.18</td>\n",
              "      <td>32780</td>\n",
              "      <td>Solaris rwalld Format String Vulnerability (ht...</td>\n",
              "      <td>CVE 2002-0573 (http://cve.mitre.org/cgi-bin/cv...</td>\n",
              "      <td>1421927415</td>\n",
              "      <td>1421927415</td>\n",
              "    </tr>\n",
              "    <tr>\n",
              "      <th>2</th>\n",
              "      <td>EXPLOITS</td>\n",
              "      <td>Browser</td>\n",
              "      <td>TCP</td>\n",
              "      <td>175.45.176.2</td>\n",
              "      <td>23357</td>\n",
              "      <td>149.171.126.16</td>\n",
              "      <td>80</td>\n",
              "      <td>Windows Metafile (WMF) SetAbortProc() Code Exe...</td>\n",
              "      <td>CVE 2005-4560 (http://cve.mitre.org/cgi-bin/cv...</td>\n",
              "      <td>1421927416</td>\n",
              "      <td>1421927416</td>\n",
              "    </tr>\n",
              "    <tr>\n",
              "      <th>3</th>\n",
              "      <td>EXPLOITS</td>\n",
              "      <td>Miscellaneous Batch</td>\n",
              "      <td>TCP</td>\n",
              "      <td>175.45.176.2</td>\n",
              "      <td>13792</td>\n",
              "      <td>149.171.126.16</td>\n",
              "      <td>5555</td>\n",
              "      <td>HP Data Protector Backup (https://strikecenter...</td>\n",
              "      <td>CVE 2011-1729 (http://cve.mitre.org/cgi-bin/cv...</td>\n",
              "      <td>1421927417</td>\n",
              "      <td>1421927417</td>\n",
              "    </tr>\n",
              "    <tr>\n",
              "      <th>4</th>\n",
              "      <td>EXPLOITS</td>\n",
              "      <td>Cisco IOS</td>\n",
              "      <td>TCP</td>\n",
              "      <td>175.45.176.2</td>\n",
              "      <td>26939</td>\n",
              "      <td>149.171.126.10</td>\n",
              "      <td>80</td>\n",
              "      <td>Cisco IOS HTTP Authentication Bypass Level 64 ...</td>\n",
              "      <td>CVE 2001-0537 (http://cve.mitre.org/cgi-bin/cv...</td>\n",
              "      <td>1421927418</td>\n",
              "      <td>1421927418</td>\n",
              "    </tr>\n",
              "  </tbody>\n",
              "</table>\n",
              "</div>"
            ],
            "text/plain": [
              "   Attackcategory    Attacksubcategory  ...  Start time    End time\n",
              "0  RECONNAISSANCE                 HTTP  ...  1421927414  1421927416\n",
              "1        EXPLOITS     Unix 'r' Service  ...  1421927415  1421927415\n",
              "2        EXPLOITS              Browser  ...  1421927416  1421927416\n",
              "3        EXPLOITS  Miscellaneous Batch  ...  1421927417  1421927417\n",
              "4        EXPLOITS            Cisco IOS  ...  1421927418  1421927418\n",
              "\n",
              "[5 rows x 11 columns]"
            ]
          },
          "metadata": {},
          "execution_count": 23
        }
      ]
    },
    {
      "cell_type": "code",
      "metadata": {
        "colab": {
          "base_uri": "https://localhost:8080/",
          "height": 777
        },
        "id": "cb5p_6AJ0Egd",
        "outputId": "10963c4b-f597-4c58-b5a1-13fbd17a21bc"
      },
      "source": [
        "df['Start time'] = pd.to_datetime(df['Start time'], unit='s')\n",
        "df['End time'] = pd.to_datetime(df['End time'], unit='s')\n",
        "df['Duration'] = ((df['End time'] - df['Start time']).dt.seconds).astype(int)\n",
        "df['hour'] = df.apply(lambda row: '0'*(2-len(str(row['Start time'].hour)))+str(row['Start time'].hour)+':00:00', axis=1)\n",
        "df['Month'] = df['End time'].dt.month\n",
        "df['Day'] = df['End time'].dt.day\n",
        "\n",
        "df"
      ],
      "execution_count": 24,
      "outputs": [
        {
          "output_type": "execute_result",
          "data": {
            "text/html": [
              "<div>\n",
              "<style scoped>\n",
              "    .dataframe tbody tr th:only-of-type {\n",
              "        vertical-align: middle;\n",
              "    }\n",
              "\n",
              "    .dataframe tbody tr th {\n",
              "        vertical-align: top;\n",
              "    }\n",
              "\n",
              "    .dataframe thead th {\n",
              "        text-align: right;\n",
              "    }\n",
              "</style>\n",
              "<table border=\"1\" class=\"dataframe\">\n",
              "  <thead>\n",
              "    <tr style=\"text-align: right;\">\n",
              "      <th></th>\n",
              "      <th>Attackcategory</th>\n",
              "      <th>Attacksubcategory</th>\n",
              "      <th>Protocol</th>\n",
              "      <th>SourceIP</th>\n",
              "      <th>SourcePort</th>\n",
              "      <th>DestinationIP</th>\n",
              "      <th>DestinationPort</th>\n",
              "      <th>AttackName</th>\n",
              "      <th>AttackReference</th>\n",
              "      <th>Start time</th>\n",
              "      <th>End time</th>\n",
              "      <th>Duration</th>\n",
              "      <th>hour</th>\n",
              "      <th>Month</th>\n",
              "      <th>Day</th>\n",
              "    </tr>\n",
              "  </thead>\n",
              "  <tbody>\n",
              "    <tr>\n",
              "      <th>0</th>\n",
              "      <td>RECONNAISSANCE</td>\n",
              "      <td>HTTP</td>\n",
              "      <td>TCP</td>\n",
              "      <td>175.45.176.0</td>\n",
              "      <td>13284</td>\n",
              "      <td>149.171.126.16</td>\n",
              "      <td>80</td>\n",
              "      <td>Domino Web Server Database Access: /doladmin.n...</td>\n",
              "      <td>-</td>\n",
              "      <td>2015-01-22 11:50:14</td>\n",
              "      <td>2015-01-22 11:50:16</td>\n",
              "      <td>2</td>\n",
              "      <td>11:00:00</td>\n",
              "      <td>1</td>\n",
              "      <td>22</td>\n",
              "    </tr>\n",
              "    <tr>\n",
              "      <th>1</th>\n",
              "      <td>EXPLOITS</td>\n",
              "      <td>Unix 'r' Service</td>\n",
              "      <td>UDP</td>\n",
              "      <td>175.45.176.3</td>\n",
              "      <td>21223</td>\n",
              "      <td>149.171.126.18</td>\n",
              "      <td>32780</td>\n",
              "      <td>Solaris rwalld Format String Vulnerability (ht...</td>\n",
              "      <td>CVE 2002-0573 (http://cve.mitre.org/cgi-bin/cv...</td>\n",
              "      <td>2015-01-22 11:50:15</td>\n",
              "      <td>2015-01-22 11:50:15</td>\n",
              "      <td>0</td>\n",
              "      <td>11:00:00</td>\n",
              "      <td>1</td>\n",
              "      <td>22</td>\n",
              "    </tr>\n",
              "    <tr>\n",
              "      <th>2</th>\n",
              "      <td>EXPLOITS</td>\n",
              "      <td>Browser</td>\n",
              "      <td>TCP</td>\n",
              "      <td>175.45.176.2</td>\n",
              "      <td>23357</td>\n",
              "      <td>149.171.126.16</td>\n",
              "      <td>80</td>\n",
              "      <td>Windows Metafile (WMF) SetAbortProc() Code Exe...</td>\n",
              "      <td>CVE 2005-4560 (http://cve.mitre.org/cgi-bin/cv...</td>\n",
              "      <td>2015-01-22 11:50:16</td>\n",
              "      <td>2015-01-22 11:50:16</td>\n",
              "      <td>0</td>\n",
              "      <td>11:00:00</td>\n",
              "      <td>1</td>\n",
              "      <td>22</td>\n",
              "    </tr>\n",
              "    <tr>\n",
              "      <th>3</th>\n",
              "      <td>EXPLOITS</td>\n",
              "      <td>Miscellaneous Batch</td>\n",
              "      <td>TCP</td>\n",
              "      <td>175.45.176.2</td>\n",
              "      <td>13792</td>\n",
              "      <td>149.171.126.16</td>\n",
              "      <td>5555</td>\n",
              "      <td>HP Data Protector Backup (https://strikecenter...</td>\n",
              "      <td>CVE 2011-1729 (http://cve.mitre.org/cgi-bin/cv...</td>\n",
              "      <td>2015-01-22 11:50:17</td>\n",
              "      <td>2015-01-22 11:50:17</td>\n",
              "      <td>0</td>\n",
              "      <td>11:00:00</td>\n",
              "      <td>1</td>\n",
              "      <td>22</td>\n",
              "    </tr>\n",
              "    <tr>\n",
              "      <th>4</th>\n",
              "      <td>EXPLOITS</td>\n",
              "      <td>Cisco IOS</td>\n",
              "      <td>TCP</td>\n",
              "      <td>175.45.176.2</td>\n",
              "      <td>26939</td>\n",
              "      <td>149.171.126.10</td>\n",
              "      <td>80</td>\n",
              "      <td>Cisco IOS HTTP Authentication Bypass Level 64 ...</td>\n",
              "      <td>CVE 2001-0537 (http://cve.mitre.org/cgi-bin/cv...</td>\n",
              "      <td>2015-01-22 11:50:18</td>\n",
              "      <td>2015-01-22 11:50:18</td>\n",
              "      <td>0</td>\n",
              "      <td>11:00:00</td>\n",
              "      <td>1</td>\n",
              "      <td>22</td>\n",
              "    </tr>\n",
              "    <tr>\n",
              "      <th>...</th>\n",
              "      <td>...</td>\n",
              "      <td>...</td>\n",
              "      <td>...</td>\n",
              "      <td>...</td>\n",
              "      <td>...</td>\n",
              "      <td>...</td>\n",
              "      <td>...</td>\n",
              "      <td>...</td>\n",
              "      <td>...</td>\n",
              "      <td>...</td>\n",
              "      <td>...</td>\n",
              "      <td>...</td>\n",
              "      <td>...</td>\n",
              "      <td>...</td>\n",
              "      <td>...</td>\n",
              "    </tr>\n",
              "    <tr>\n",
              "      <th>174336</th>\n",
              "      <td>DOS</td>\n",
              "      <td>IGMP</td>\n",
              "      <td>TCP</td>\n",
              "      <td>175.45.176.0</td>\n",
              "      <td>33654</td>\n",
              "      <td>149.171.126.12</td>\n",
              "      <td>80</td>\n",
              "      <td>Microsoft IIS Repeated Parameter Request Denia...</td>\n",
              "      <td>CVE 2010-1899 (http://cve.mitre.org/cgi-bin/cv...</td>\n",
              "      <td>2015-02-18 12:21:06</td>\n",
              "      <td>2015-02-18 12:21:09</td>\n",
              "      <td>3</td>\n",
              "      <td>12:00:00</td>\n",
              "      <td>2</td>\n",
              "      <td>18</td>\n",
              "    </tr>\n",
              "    <tr>\n",
              "      <th>174337</th>\n",
              "      <td>FUZZERS</td>\n",
              "      <td>SMB</td>\n",
              "      <td>TCP</td>\n",
              "      <td>175.45.176.3</td>\n",
              "      <td>36468</td>\n",
              "      <td>149.171.126.15</td>\n",
              "      <td>445</td>\n",
              "      <td>Fuzzer: SMB Session Setup Invalid Username (NT...</td>\n",
              "      <td>None</td>\n",
              "      <td>2015-02-18 12:21:07</td>\n",
              "      <td>2015-02-18 12:21:08</td>\n",
              "      <td>1</td>\n",
              "      <td>12:00:00</td>\n",
              "      <td>2</td>\n",
              "      <td>18</td>\n",
              "    </tr>\n",
              "    <tr>\n",
              "      <th>174338</th>\n",
              "      <td>RECONNAISSANCE</td>\n",
              "      <td>SunRPC Portmapper (TCP) UDP Service</td>\n",
              "      <td>TCP</td>\n",
              "      <td>175.45.176.2</td>\n",
              "      <td>64395</td>\n",
              "      <td>149.171.126.18</td>\n",
              "      <td>111</td>\n",
              "      <td>SunRPC TCP Portmapper GETPORT Request (ippathv...</td>\n",
              "      <td>None</td>\n",
              "      <td>2015-02-18 12:21:07</td>\n",
              "      <td>2015-02-18 12:21:08</td>\n",
              "      <td>1</td>\n",
              "      <td>12:00:00</td>\n",
              "      <td>2</td>\n",
              "      <td>18</td>\n",
              "    </tr>\n",
              "    <tr>\n",
              "      <th>174339</th>\n",
              "      <td>GENERIC</td>\n",
              "      <td>IXIA</td>\n",
              "      <td>UDP</td>\n",
              "      <td>175.45.176.0</td>\n",
              "      <td>47439</td>\n",
              "      <td>149.171.126.10</td>\n",
              "      <td>53</td>\n",
              "      <td>Microsoft_DNS_Server_ANY_Query_Cache_Weakness_...</td>\n",
              "      <td>CVE 2009-0234 (http://cve.mitre.org/cgi-bin/cv...</td>\n",
              "      <td>2015-02-18 12:21:08</td>\n",
              "      <td>2015-02-18 12:21:08</td>\n",
              "      <td>0</td>\n",
              "      <td>12:00:00</td>\n",
              "      <td>2</td>\n",
              "      <td>18</td>\n",
              "    </tr>\n",
              "    <tr>\n",
              "      <th>174340</th>\n",
              "      <td>EXPLOITS</td>\n",
              "      <td>Office Document</td>\n",
              "      <td>TCP</td>\n",
              "      <td>175.45.176.0</td>\n",
              "      <td>17293</td>\n",
              "      <td>149.171.126.17</td>\n",
              "      <td>110</td>\n",
              "      <td>Microsoft Office PowerPoint Legacy File Format...</td>\n",
              "      <td>CVE 2009-0227 (http://cve.mitre.org/cgi-bin/cv...</td>\n",
              "      <td>2015-02-18 12:21:08</td>\n",
              "      <td>2015-02-18 12:21:09</td>\n",
              "      <td>1</td>\n",
              "      <td>12:00:00</td>\n",
              "      <td>2</td>\n",
              "      <td>18</td>\n",
              "    </tr>\n",
              "  </tbody>\n",
              "</table>\n",
              "<p>174341 rows × 15 columns</p>\n",
              "</div>"
            ],
            "text/plain": [
              "        Attackcategory                    Attacksubcategory  ... Month Day\n",
              "0       RECONNAISSANCE                                 HTTP  ...     1  22\n",
              "1             EXPLOITS                     Unix 'r' Service  ...     1  22\n",
              "2             EXPLOITS                              Browser  ...     1  22\n",
              "3             EXPLOITS                  Miscellaneous Batch  ...     1  22\n",
              "4             EXPLOITS                            Cisco IOS  ...     1  22\n",
              "...                ...                                  ...  ...   ...  ..\n",
              "174336             DOS                                 IGMP  ...     2  18\n",
              "174337         FUZZERS                                  SMB  ...     2  18\n",
              "174338  RECONNAISSANCE  SunRPC Portmapper (TCP) UDP Service  ...     2  18\n",
              "174339         GENERIC                                 IXIA  ...     2  18\n",
              "174340        EXPLOITS                      Office Document  ...     2  18\n",
              "\n",
              "[174341 rows x 15 columns]"
            ]
          },
          "metadata": {},
          "execution_count": 24
        }
      ]
    },
    {
      "cell_type": "markdown",
      "metadata": {
        "id": "XM88u9j1_ULZ"
      },
      "source": [
        "# **Exploratory Data Analysis (EDA)**"
      ]
    },
    {
      "cell_type": "code",
      "metadata": {
        "id": "MO5-F7xe_TTf"
      },
      "source": [
        "df_AfterCleanning=df.copy() # creat a new copy before EDA"
      ],
      "execution_count": 25,
      "outputs": []
    },
    {
      "cell_type": "code",
      "metadata": {
        "colab": {
          "base_uri": "https://localhost:8080/",
          "height": 425
        },
        "id": "7Ep8rPQZAQfQ",
        "outputId": "73421851-41ec-42e7-85f4-7d668e609d4e"
      },
      "source": [
        "x=pd.DataFrame(df['Attackcategory'].value_counts())[:5]\n",
        "colors = ['lemonchiffon', 'powderblue','whitesmoke','lightgray','darkslategray','darkseagreen']\n",
        "\n",
        "x.plot(kind='pie', subplots=True, figsize=(7, 7) ,colors=colors)\n",
        "plt.title('Top Five Attacks')\n",
        "plt.legend(loc='upper left')\n",
        "plt.ylabel('')\n",
        "plt.show()\n",
        "#plt.savefig('pie.png',dpi=250)"
      ],
      "execution_count": 26,
      "outputs": [
        {
          "output_type": "display_data",
          "data": {
            "image/png": "[encoded data removed]",
            "text/plain": [
              "<Figure size 504x504 with 1 Axes>"
            ]
          },
          "metadata": {}
        }
      ]
    },
    {
      "cell_type": "code",
      "metadata": {
        "colab": {
          "base_uri": "https://localhost:8080/",
          "height": 416
        },
        "id": "3FqG84KzMONb",
        "outputId": "3863dfab-404e-4d83-8042-be42588e3e80"
      },
      "source": [
        "plt.figure(figsize=(18,6))\n",
        "sns.barplot(x=(df['Attackcategory'].value_counts().index)[:5],y=(df['Attackcategory'].value_counts())[:5],color='powderblue')\n",
        "plt.xlabel('Attacks Category')\n",
        "plt.ylabel('Attacks Count')\n",
        "plt.title('Number of attacks per Attack caterogy')\n"
      ],
      "execution_count": 27,
      "outputs": [
        {
          "output_type": "execute_result",
          "data": {
            "text/plain": [
              "Text(0.5, 1.0, 'Number of attacks per Attack caterogy')"
            ]
          },
          "metadata": {},
          "execution_count": 27
        },
        {
          "output_type": "display_data",
          "data": {
            "image/png": "[encoded data removed]",
            "text/plain": [
              "<Figure size 1296x432 with 1 Axes>"
            ]
          },
          "metadata": {
            "needs_background": "light"
          }
        }
      ]
    },
    {
      "cell_type": "markdown",
      "metadata": {
        "id": "AsY-3Jbb-T29"
      },
      "source": [
        "the most common cybersecurity attacks are (Exploit, Fuzzers, DoS,Reconnaissance, Generic)"
      ]
    },
    {
      "cell_type": "code",
      "metadata": {
        "id": "yoUekATuG_m3"
      },
      "source": [
        "DfDummies = pd.get_dummies(df, columns=['Attackcategory']) "
      ],
      "execution_count": 28,
      "outputs": []
    },
    {
      "cell_type": "code",
      "metadata": {
        "colab": {
          "base_uri": "https://localhost:8080/",
          "height": 584
        },
        "id": "SDieb2PYw2ni",
        "outputId": "f5bf02fb-6eb2-41ef-dd94-a1979f1965e8"
      },
      "source": [
        "plt.figure(figsize=(18,7))\n",
        "sns.heatmap(DfDummies.corr(), annot=True ,cmap=\"YlGnBu\")\n",
        "plt.show()"
      ],
      "execution_count": 47,
      "outputs": [
        {
          "output_type": "display_data",
          "data": {
            "image/png": "[encoded data removed]",
            "text/plain": [
              "<Figure size 1296x504 with 2 Axes>"
            ]
          },
          "metadata": {
            "needs_background": "light"
          }
        }
      ]
    },
    {
      "cell_type": "markdown",
      "metadata": {
        "id": "YMK6d22pKwkj"
      },
      "source": [
        "Correlation results suggest that although the relationship between this pair of variables is linearly weak, there is a strong monotonic relationship between them \n",
        "\n"
      ]
    },
    {
      "cell_type": "code",
      "metadata": {
        "colab": {
          "base_uri": "https://localhost:8080/",
          "height": 454
        },
        "id": "DuCrFD--HCNl",
        "outputId": "554bfde9-722f-42ff-ece7-b55b126f6356"
      },
      "source": [
        "plt.figure(figsize=(18,7))\n",
        "sns.violinplot(x='Attackcategory', y='Duration', data=df,color='powderblue')\n",
        "plt.title('The Duration per Attack caterogy')\n",
        "plt.grid(True)\n",
        "plt.show()"
      ],
      "execution_count": 30,
      "outputs": [
        {
          "output_type": "display_data",
          "data": {
            "image/png": "[encoded data removed]",
            "text/plain": [
              "<Figure size 1296x504 with 1 Axes>"
            ]
          },
          "metadata": {
            "needs_background": "light"
          }
        }
      ]
    },
    {
      "cell_type": "markdown",
      "metadata": {
        "id": "FFBe1xCILHDw"
      },
      "source": [
        "There were two types of attacks that do not record times greater than 20 seconds, the shellcode and the worms. Most distributions are normal distributions, except for the one found in shellcode, which has two peaks, indicating a bimodal distribution (two different modes)  \n"
      ]
    },
    {
      "cell_type": "code",
      "metadata": {
        "id": "j3EKQvdz2F3H"
      },
      "source": [
        "df_pivot = df.copy()\n",
        "df_pivot1 = pd.pivot_table(df_pivot,values='AttackName', index=['hour'], columns=['Attackcategory'], aggfunc='count')"
      ],
      "execution_count": 31,
      "outputs": []
    },
    {
      "cell_type": "code",
      "metadata": {
        "colab": {
          "base_uri": "https://localhost:8080/",
          "height": 591
        },
        "id": "_E_D57XtHCm5",
        "outputId": "cd8a3cf5-5700-456f-b36d-2e103f411345"
      },
      "source": [
        "plt.figure(figsize=(18,8))\n",
        "ax = sns.heatmap(df_pivot1,cmap=\"YlGnBu\")\n",
        "sns.color_palette(\"mako\")\n",
        "plt.xlabel('Attack Category')\n",
        "plt.ylabel('Hour')\n",
        "plt.title('Number of attacks per hour and attack type')\n",
        "plt.xticks(rotation=90)\n",
        "plt.yticks(rotation=0)\n",
        "plt.show()"
      ],
      "execution_count": 45,
      "outputs": [
        {
          "output_type": "display_data",
          "data": {
            "image/png": "[encoded data removed]",
            "text/plain": [
              "<Figure size 1296x576 with 2 Axes>"
            ]
          },
          "metadata": {
            "needs_background": "light"
          }
        }
      ]
    },
    {
      "cell_type": "markdown",
      "metadata": {
        "id": "ZiXIOmkOo32B"
      },
      "source": [
        "There was a peculiar pattern in the attacks, especially for Denial of Service and Exploit attacks. The attacks were made with more intensity at odd hours \n"
      ]
    },
    {
      "cell_type": "code",
      "metadata": {
        "colab": {
          "base_uri": "https://localhost:8080/",
          "height": 591
        },
        "id": "SVAXt08ZHCu5",
        "outputId": "89ed70d5-e90b-446a-e0fc-aba5ecc3fce9"
      },
      "source": [
        "df_pivot2 = pd.pivot_table(df_pivot, values='AttackName', index=['DestinationIP'], columns=['Attackcategory'], aggfunc='count')\n",
        "plt.figure(figsize=(18,8))\n",
        "ax = sns.heatmap(df_pivot2,cmap=\"YlGnBu\")\n",
        "plt.xlabel('Attack category')\n",
        "plt.ylabel('Destination IP')\n",
        "plt.title('Number of attacks per IP and attack type')\n",
        "plt.xticks(rotation=90)\n",
        "plt.yticks(rotation=0)\n",
        "plt.show()\n"
      ],
      "execution_count": 44,
      "outputs": [
        {
          "output_type": "display_data",
          "data": {
            "image/png": "[encoded data removed]",
            "text/plain": [
              "<Figure size 1296x576 with 2 Axes>"
            ]
          },
          "metadata": {
            "needs_background": "light"
          }
        }
      ]
    },
    {
      "cell_type": "markdown",
      "metadata": {
        "id": "QgOflEgI5FC8"
      },
      "source": [
        "The most attacked machine is the one with the IPv4 address 149.171.126.17. Conversely, while worms, shellcode and generic attacks are not directed at particular machines, Denial of Services, Exploits and Backdoor attacks are clearly targeted towards specific servers."
      ]
    },
    {
      "cell_type": "markdown",
      "metadata": {
        "id": "zbSEtmxByynl"
      },
      "source": [
        "# **Conclusion:**\n",
        "\n",
        "In the end, we summarize that the most common cybersecurity attacks are (Exploit, Fuzzers, DoS,Reconnaissance, Generic)\n",
        "Duration for each attack ranges from 1 minute except the Exploit and worms range to 20 secound \n",
        "In addition, we concluded that the most commonly accessed logical ports are: 149.171.126.17.  also \n",
        "The number of attacks per hour and the type of attack,that the attacks occurs in odd hours\n",
        "\n",
        "\n"
      ]
    },
    {
      "cell_type": "markdown",
      "metadata": {
        "id": "qrNGZk8x_iJF"
      },
      "source": [
        "# **reference:**\n",
        "\n",
        "\n",
        "\n",
        "*   https://www.sciencedirect.com/topics/computer-science/registered-port\n",
        "*   https://www.researchgate.net/publication/349407966_Exploratory_data_analysis_for_cybersecurity\n",
        "* https://research.unsw.edu.au/projects/unsw-nb15-dataset\n",
        "\n",
        "\n"
      ]
    }
  ]
}